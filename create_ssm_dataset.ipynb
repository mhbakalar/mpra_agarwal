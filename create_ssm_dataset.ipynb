{
 "cells": [
  {
   "cell_type": "code",
   "execution_count": 1,
   "metadata": {},
   "outputs": [],
   "source": [
    "from sklearn.model_selection import train_test_split\n",
    "import pandas as pd\n",
    "from pathlib import Path"
   ]
  },
  {
   "cell_type": "markdown",
   "metadata": {},
   "source": [
    "## SSM Dataset"
   ]
  },
  {
   "cell_type": "code",
   "execution_count": 10,
   "metadata": {},
   "outputs": [],
   "source": [
    "def generate_substitutions(original_str, nucleotides, max_length, overlap):\n",
    "    substitutions = []\n",
    "    names = []\n",
    "    variant = []\n",
    "\n",
    "    start = 0\n",
    "    while start <= len(original_str)-max_length:\n",
    "        shift_str = str(start) + '-' + str(start+max_length)\n",
    "        substr = original_str[start:start+max_length]\n",
    "        # Original strings shifted\n",
    "        names.append('original' + ':' '' + ':' + shift_str)\n",
    "        substitutions.append(substr)\n",
    "\n",
    "        # Variant strings shifted\n",
    "        for i in range(max_length):\n",
    "            for nucleotide in nucleotides:\n",
    "                if substr[i] != nucleotide:\n",
    "                    new_name = str(start+i) + ':' + nucleotide + ':' + shift_str\n",
    "                    new_str = substr[:i] + nucleotide + substr[i+1:]\n",
    "                    names.append(new_name)\n",
    "                    substitutions.append(new_str)\n",
    "\n",
    "        start += overlap\n",
    "    \n",
    "    return names, substitutions\n",
    "\n",
    "albumin_promoter = 'GCAACATTAATCTAAAAACCTCAATGACCCAAATAGAAAAGGAAAAAAGCTTTCTGAACAGCCAAACAGAGATTCCAAAGTTCAGGCACCAAAGTTCAGACCCTAACAGTTATTTACAAGGGTCAGTTAACCTTTTGTTCTAGTGGGATAGGATTCCCATGGTGAGATTTGAAGAACTGTGGAACCACTGTTTCAGGTTC'\n",
    "albumin_enhancer = 'ATATATCAAAATAAACTTGAGGGGATAGATCATTTTCATGATATATGAGAAAAATTAAAAATCAGATTGAATTATTTGCCTGTCATACAGCTAATAATTGACCATAAGACAATTAGATTTAAATTAGTTTTGAATCTTTCTAATACCAAAGTTCAGTTTACTGTTCCATGTTGCTTCTGAGTGGCTTCACAGACTTATGAAAAAGTAAACGGAATCAGAATTACATCAATGCAAAAGCATTGCTGTGAACTCTGTACTTAGGACTAAACTTTGAGCAATAACACATATAGATTGAGGATTGTTTGCTGTTAGTATACAAACTCTGGTTCAAAGCTCCTCTTTATTGCTTGTCTTGGAAAATTTGCTGTTCTTCATGGTTTCTCTTTTCACTGCTATCTAT'\n",
    "apo_mouse = 'ATTTGGACAGTGGAGCATCAACTGGGAGGCGCTATGGAGCCAGAGCCACCGAAGGCAGGTAGCAGCACTTACCTCCCCGGAGCTCTCCGACAGTCTGGGTGTCCAGCTCTTCTTCCCTGGTCTATATATGTGTGTGGGCAGGGGCTGGGCTGGGAGACTGATAAGCTCAGCCTGGCCCTGCCACTGCTTACTTTTGCTGGCGATGTGGAACTTAGAGTTCAAGGATCAGCTCTGTTCCTGAGGCTGGGCAAACAGAGTGGGCAAACAGGAAACTGCGGGGGCTGCCGAGCTGGGATCAAGGGTTCAGGTGGGGGCAGCAGGGGGTGGCTGCAGACTCCAGGGGTCCCCAGGGGTAAGGCAGTTGCACCATCCCGAGGTGTATGTCTTCTTCAAGATAGTCTCATGGAGCCCACTCCTGGACTCCTCTGTGTTGCTAGTGCCCTCTGAGCCTGGAACAAGGGAGGGAGGGAGGAATTGTGGGCTCCTTCACTCACAGCCCCACCCCAAAGTTTTTTTTTTGCTTTCCAAGGGGTTCCCCCTTTCACCTCACCCTGGTCCCCCAGGTTTGGGGATTTGTCTTTCCAGATGCCACATGTTTAGCCAGCCTCCCAACCCTAAATCCAAAAACAACTGAGGTGTCAGCCTGAGTGAGATGCAGACAGGCTCATATCCCCAAGCTGAGGATGAAGACCCCTCTGATGCTTCAGAAGAAATGACAGAGGCCAACATGGAGTTGTTAGCTCCTTCCTTGTCTCCCTCCCTCCTTCCCTCCCTTCCTTTCTTCCTTATCTTAGGTACATGAGCGCTCTGTCTTCAGACACACCAGAAGATGGAATCAGATTCCTTTACAGATGGTTGTGAGCCACCATATGGTTTCTGGGAATTGAACTCAGGACCTCT'\n",
    "apo_human = 'AGGTACCCAGAGGCCCGGCCTGGGGCAAGGCCTGAACCTTGAGCTGGGGAGCCAGAGTGACCGGGGCAGGCAGCAGGACGCACCTCCTTCTCGCAGTCTCTAAGCAGCCAGCTCTTGCAGGGCCTATTTATGTCTGCAGCCAGGGTCTGGGCTGGGAGGCTGATAAGCCCAGCCCCGGCCCTGTTGCTGCTCACTGGTCCTGGCAATGTGGAACTTAAGAGTTCAAGGATCAGCTCTGTCCCTGGGGCTGGGCAAATAGAGTGGGCAAACAGCAAGCTGCGGGGGCTGCAGGGCAGGGGTCAAGGGTTCAGTGGGGGCGGGAGGGGAGTGTCTGCAGGCTTGCAGGTCTCCCGGGTGGGGTCGGGGTTCCCTGCACTCATCCCCTTCCCCTCCATGGGAGTGTGTGGGCAGTTGCCATTGTCCATTGTGTTGGCAGAGGAGGGGAGGGGAGGGACGCTGGGACTCCTCCACCAAGGAGACTGCCTCCCCCACCACCAGCATTCCAGGGAGACTACTTCACTCCCCTCCCCCTTCCCCCGCCCTGTCCTCCCACCAGTGCTCTTCTTTAGTCCCCAGCAGGTCCTCCAGGCCTCTCTCCAAGCCTCCCAAACTGGTAAACCTGGGGAGAGGGGAGAGCCCTCCGTGGCTCCCAGACTGAGGTTTCGGAGACCTCTTGCATTTCAAAACACTCCAGAGATCAATTCGGAGCTGCCAACTTTTAATTTTGTCATGTAAAGATATTGTCCGCCTCCAAAAAACCCTCACCATCTACAGTGACCATCACTTCAAAAAGGAAAGGCTTTAACAAAAAAGGGCATAATCTCAGAATTACATTACAGAATTGAAGCCCCTTAGATTGAAGACGTCTCCCTTTGCATTGTTCACACTTATATTTGATCA'\n",
    "apoc3 = 'GAGCTCATCTGGGCTGCAGGGCTGGCGGGACAGCAGCGTGGACTCAGTCTCCTAGGGATTTCCCAACTCTCCCGCCCGCTTGCTGCATCTGGACACCCTGCCTCAGGCCCTCATCTCCACTGGTCAGCAGGTGACCTTTGCCCAGCGCCCTGGGTCCTCAGTGCCTGCTGCCCTGGAGATGATATAAAACAGGTCAGAAC'\n",
    "\n",
    "apo_mod = 'AGGTACCCAGAGGCCCGGCCTGGGGCAAGGCCTGAACCTTGAGCTGGGGAGCCAGAGTGACCGGGGCAGGCAGCAGGACGCACCTCCTTCTCGCAGTCTCTAAGCAGCCAGCTCTTGCAGGGCCTATTTATGTCTGCAGCCAGGGTCTGGGCTGGGAGGCTGATTGGCCCACTTCCGGAAGTGTTGCCAATGATTGGTCCTGGCAATGATTAACTTAAGAGTTCAAGGATCAGCTCTGTCCCATTGGCTGGGCAAATAGAGTGGGCAAACAGCAAGCTGCGGGGGCTGCAGGGCAGGGGTCAAGGGTTCAGTGGGGGCGGGAGGGGAGTGTCTGCAGGCTTGCAGGTCTCCCGGGTGGGGTCGGGGTTCCCTGCACTCATCCCCTTCCCCTCCATGGGAGTGTGTGGGCAGTTGCCATTGTCCATTGTGTTGGCAGAGGAGGGGAGGGGAGGGACGCTGGGACTCCTCCACCAAGGAGACTGCCTCCCCCACCACCAGCATTCCAGGGAGACTACTTCACTCCCCTCCCCCTTCCCCCGCCCTGTCCTCCCACCAGTGCTCTTCTTTAGTCCCCAGCAGGTCCTCCAGGCCTCTCTCCAAGCCTCCCAAACTGGTAAACCTGGGGAGAGGGGAGAGCCCTCCGTGGCTCCCAGACTGAGGTTTCGGAGACCTCTTGCATTTCAAAACACTCCAGAGATCAATTCGGAGCTGCCAACTTTTAATTTTGTCATGTAAAGATATTGTCCGCCTCCAAAAAACCCTCACCATCTACAGTGACCATCACTTCAAAAAGGAAAGGCTTTAACAAAAAAGGGCATAATCTCAGAATTACATTACAGAATTGAAGCCCCTTAGATTGAAGACGTCTCCCTTTGCATTGTTCACACTTATATTTGATCA'\n",
    "\n",
    "seq = apoc3\n",
    "\n",
    "names, variant_seqs = generate_substitutions(seq, ['A','C','T','G'], max_length=200, overlap=100)\n",
    "\n",
    "seq = ['AGGACCGGATCAACT' + s + 'CATTGCGTGAACCGA' for s in variant_seqs]\n",
    "df = pd.DataFrame({'name':names, 'category':'variant', 'seq':seq, 'mean':0})\n",
    "df.loc[0,'category'] = 'original'"
   ]
  },
  {
   "cell_type": "markdown",
   "metadata": {},
   "source": [
    "## Save data to CSV"
   ]
  },
  {
   "cell_type": "code",
   "execution_count": 11,
   "metadata": {},
   "outputs": [],
   "source": [
    "from pathlib import Path\n",
    "\n",
    "# Clean data directories (copied from https://stackoverflow.com/a/57892171)\n",
    "def rm_tree(pth: Path):\n",
    "    for child in pth.iterdir():\n",
    "        if child.is_file():\n",
    "            child.unlink()\n",
    "        else:\n",
    "            rm_tree(child)\n",
    "    pth.rmdir()\n",
    "\n",
    "for BASE_FILE_PATH in [Path(\"data/apoa1\")]:\n",
    "    if BASE_FILE_PATH.exists():\n",
    "        rm_tree(BASE_FILE_PATH)\n",
    "    BASE_FILE_PATH.mkdir()\n",
    "\n",
    "# Save data files\n",
    "df.to_csv(Path('data/apoa1') / 'val.csv', index=False)\n",
    "\n",
    "# Copy data\n",
    "!cp -r data/apoa1 /data/code/hyena-dna/data/mpra_agarwal_seq/"
   ]
  },
  {
   "cell_type": "markdown",
   "metadata": {},
   "source": [
    "## Replace dataset"
   ]
  },
  {
   "cell_type": "code",
   "execution_count": 23,
   "metadata": {},
   "outputs": [],
   "source": [
    "import itertools\n",
    "    \n",
    "def generate_substitutions(original_str, replace_seq, max_length, overlap):\n",
    "    substitutions = []\n",
    "    names = []\n",
    "    variant = []\n",
    "\n",
    "    start = 0\n",
    "    while start <= len(original_str)-max_length:\n",
    "        shift_str = str(start) + '-' + str(start+max_length)\n",
    "        substr = original_str[start:start+max_length]\n",
    "        # Original strings shifted\n",
    "        names.append('original' + ':' + ':' + shift_str)\n",
    "        substitutions.append(substr)\n",
    "\n",
    "        # Replace strings\n",
    "        bases = [\"A\",\"C\",\"T\",\"G\"]\n",
    "        combinations = [''.join(comb) for comb in itertools.product(bases, repeat=len(replace_seq))]\n",
    "\n",
    "        for i in range(0,len(substr)-len(replace_seq)):\n",
    "            for seq in combinations:\n",
    "                new_str = substr[:i] + seq + substr[i+len(replace_seq):]\n",
    "                new_name = str(start+i) + ':' + seq + ':' + shift_str\n",
    "                names.append(new_name)\n",
    "                substitutions.append(new_str)\n",
    "\n",
    "        start += overlap\n",
    "    \n",
    "    return names, substitutions\n",
    "\n",
    "apo_human = 'AGGTACCCAGAGGCCCGGCCTGGGGCAAGGCCTGAACCTTGAGCTGGGGAGCCAGAGTGACCGGGGCAGGCAGCAGGACGCACCTCCTTCTCGCAGTCTCTAAGCAGCCAGCTCTTGCAGGGCCTATTTATGTCTGCAGCCAGGGTCTGGGCTGGGAGGCTGATAAGCCCAGCCCCGGCCCTGTTGCTGCTCACTGGTCCTGGCAATGTGGAACTTAAGAGTTCAAGGATCAGCTCTGTCCCTGGGGCTGGGCAAATAGAGTGGGCAAACAGCAAGCTGCGGGGGCTGCAGGGCAGGGGTCAAGGGTTCAGTGGGGGCGGGAGGGGAGTGTCTGCAGGCTTGCAGGTCTCCCGGGTGGGGTCGGGGTTCCCTGCACTCATCCCCTTCCCCTCCATGGGAGTGTGTGGGCAGTTGCCATTGTCCATTGTGTTGGCAGAGGAGGGGAGGGGAGGGACGCTGGGACTCCTCCACCAAGGAGACTGCCTCCCCCACCACCAGCATTCCAGGGAGACTACTTCACTCCCCTCCCCCTTCCCCCGCCCTGTCCTCCCACCAGTGCTCTTCTTTAGTCCCCAGCAGGTCCTCCAGGCCTCTCTCCAAGCCTCCCAAACTGGTAAACCTGGGGAGAGGGGAGAGCCCTCCGTGGCTCCCAGACTGAGGTTTCGGAGACCTCTTGCATTTCAAAACACTCCAGAGATCAATTCGGAGCTGCCAACTTTTAATTTTGTCATGTAAAGATATTGTCCGCCTCCAAAAAACCCTCACCATCTACAGTGACCATCACTTCAAAAAGGAAAGGCTTTAACAAAAAAGGGCATAATCTCAGAATTACATTACAGAATTGAAGCCCCTTAGATTGAAGACGTCTCCCTTTGCATTGTTCACACTTATATTTGATCA'\n",
    "apo_triple = 'AGGTACCCAGAGGCCCGGCCTGGGGCAAGGCCTGAACCTTGAGCTGGGGAGCCAGAGTGACCGGGGCAGGCAGCAGGACGCACCTCCTTCTCGCAGTCTCTAAGCAGCCAGCTCTTGCAGGGCCTATTTATGTCTGCAGCCAGGGTCTGGGCTGATTGGCTGATTGGCCCACTTCCGGAAGTGTTGCTGCTGATTGGTCCTGGCAATGATTAACTTAAGAGTTCAAGGATCAGCTCTGTCCCTGGGGCTGGGCAAATAGAGTGGGCAAACAGCAAGCTGCGGGGGCTGCAGGGCAGGGGTCAAGGGTTCAGTGGGGGCGGGAGGGGAGTGTCTGCAGGCTTGCAGGTCTCCCGGGTGGGGTCGGGGTTCCCTGCACTCATCCCCTTCCCCTCCATGGGAGTGTGTGGGCAGTTGCCATTGTCCATTGTGTTGGCAGAGGAGGGGAGGGGAGGGACGCTGGGACTCCTCCACCAAGGAGACTGCCTCCCCCACCACCAGCATTCCAGGGAGACTACTTCACTCCCCTCCCCCTTCCCCCGCCCTGTCCTCCCACCAGTGCTCTTCTTTAGTCCCCAGCAGGTCCTCCAGGCCTCTCTCCAAGCCTCCCAAACTGGTAAACCTGGGGAGAGGGGAGAGCCCTCCGTGGCTCCCAGACTGAGGTTTCGGAGACCTCTTGCATTTCAAAACACTCCAGAGATCAATTCGGAGCTGCCAACTTTTAATTTTGTCATGTAAAGATATTGTCCGCCTCCAAAAAACCCTCACCATCTACAGTGACCATCACTTCAAAAAGGAAAGGCTTTAACAAAAAAGGGCATAATCTCAGAATTACATTACAGAATTGAAGCCCCTTAGATTGAAGACGTCTCCCTTTGCATTGTTCACACTTATATTTGATCA'\n",
    "seq = apo_triple\n",
    "\n",
    "names, variant_seqs = generate_substitutions(seq, replace_seq=\"NNN\", max_length=200, overlap=100)\n",
    "\n",
    "seq = ['AGGACCGGATCAACT' + s + 'CATTGCGTGAACCGA' for s in variant_seqs]\n",
    "df = pd.DataFrame({'name':names, 'category':'variant', 'seq':seq, 'mean':0})\n",
    "df.loc[0,'category'] = 'original'"
   ]
  },
  {
   "cell_type": "markdown",
   "metadata": {},
   "source": [
    "### Save data to CSV"
   ]
  },
  {
   "cell_type": "code",
   "execution_count": 24,
   "metadata": {},
   "outputs": [],
   "source": [
    "from pathlib import Path\n",
    "\n",
    "# Clean data directories (copied from https://stackoverflow.com/a/57892171)\n",
    "def rm_tree(pth: Path):\n",
    "    for child in pth.iterdir():\n",
    "        if child.is_file():\n",
    "            child.unlink()\n",
    "        else:\n",
    "            rm_tree(child)\n",
    "    pth.rmdir()\n",
    "\n",
    "for BASE_FILE_PATH in [Path(\"data/apoa1\")]:\n",
    "    if BASE_FILE_PATH.exists():\n",
    "        rm_tree(BASE_FILE_PATH)\n",
    "    BASE_FILE_PATH.mkdir()\n",
    "\n",
    "# Save data files\n",
    "df.to_csv(Path('data/apoa1') / 'val.csv', index=False)\n",
    "\n",
    "# Copy data\n",
    "!cp -r data/apoa1 /data/code/hyena-dna/data/mpra_agarwal_seq/"
   ]
  },
  {
   "cell_type": "markdown",
   "metadata": {},
   "source": [
    "## Targeted replace dataset"
   ]
  },
  {
   "cell_type": "code",
   "execution_count": 22,
   "metadata": {},
   "outputs": [],
   "source": [
    "import itertools\n",
    "    \n",
    "def generate_substitutions(original_str, replace_seq, target_sites, max_length, overlap):\n",
    "    substitutions = []\n",
    "    names = []\n",
    "    variant = []\n",
    "\n",
    "    start = 0\n",
    "    while start <= len(original_str)-max_length:\n",
    "        shift_str = str(start) + '-' + str(start+max_length)\n",
    "        substr = original_str[start:start+max_length]\n",
    "        # Original strings shifted\n",
    "        names.append('original' + ':' + ':' + shift_str)\n",
    "        substitutions.append(substr)\n",
    "\n",
    "        # Replace strings\n",
    "        sites = target_sites[(target_sites['sp1_pos'] >= start) & (target_sites['sp2_pos'] < start+max_length)]\n",
    "        for i, row in sites.iterrows():\n",
    "            site_start = row['sp1_pos'] - start\n",
    "            site_end = row['sp2_pos'] - start\n",
    "            new_str = substr[:site_start] + replace_seq + substr[site_end+len(replace_seq):]\n",
    "            new_name = str(row['sp1_pos'])+'-'+str(row['sp2_pos']) + ':' + replace_seq + ':' + shift_str\n",
    "            names.append(new_name)\n",
    "            substitutions.append(new_str)\n",
    "\n",
    "        start += overlap\n",
    "    \n",
    "    substitutions = pd.Series(substitutions).str.pad(width=200, side='right', fillchar='N').values\n",
    "    return names, substitutions\n",
    "\n",
    "sgrna_sites = pd.read_csv('/data/code/mpra_agarwal/apoa1_sgrna.csv')\n",
    "\n",
    "apo_human = 'AGGTACCCAGAGGCCCGGCCTGGGGCAAGGCCTGAACCTTGAGCTGGGGAGCCAGAGTGACCGGGGCAGGCAGCAGGACGCACCTCCTTCTCGCAGTCTCTAAGCAGCCAGCTCTTGCAGGGCCTATTTATGTCTGCAGCCAGGGTCTGGGCTGGGAGGCTGATAAGCCCAGCCCCGGCCCTGTTGCTGCTCACTGGTCCTGGCAATGTGGAACTTAAGAGTTCAAGGATCAGCTCTGTCCCTGGGGCTGGGCAAATAGAGTGGGCAAACAGCAAGCTGCGGGGGCTGCAGGGCAGGGGTCAAGGGTTCAGTGGGGGCGGGAGGGGAGTGTCTGCAGGCTTGCAGGTCTCCCGGGTGGGGTCGGGGTTCCCTGCACTCATCCCCTTCCCCTCCATGGGAGTGTGTGGGCAGTTGCCATTGTCCATTGTGTTGGCAGAGGAGGGGAGGGGAGGGACGCTGGGACTCCTCCACCAAGGAGACTGCCTCCCCCACCACCAGCATTCCAGGGAGACTACTTCACTCCCCTCCCCCTTCCCCCGCCCTGTCCTCCCACCAGTGCTCTTCTTTAGTCCCCAGCAGGTCCTCCAGGCCTCTCTCCAAGCCTCCCAAACTGGTAAACCTGGGGAGAGGGGAGAGCCCTCCGTGGCTCCCAGACTGAGGTTTCGGAGACCTCTTGCATTTCAAAACACTCCAGAGATCAATTCGGAGCTGCCAACTTTTAATTTTGTCATGTAAAGATATTGTCCGCCTCCAAAAAACCCTCACCATCTACAGTGACCATCACTTCAAAAAGGAAAGGCTTTAACAAAAAAGGGCATAATCTCAGAATTACATTACAGAATTGAAGCCCCTTAGATTGAAGACGTCTCCCTTTGCATTGTTCACACTTATATTTGATCA'\n",
    "\n",
    "gabpa = 'GGAACCGGAAGTGG'\n",
    "\n",
    "names, variant_seqs = generate_substitutions(apo_human, replace_seq=gabpa, target_sites=sgrna_sites, max_length=200, overlap=100)\n",
    "\n",
    "seq = ['AGGACCGGATCAACT' + s + 'CATTGCGTGAACCGA' for s in variant_seqs]\n",
    "df = pd.DataFrame({'name':names, 'category':'variant', 'seq':seq, 'mean':0})\n",
    "df.loc[0,'category'] = 'original'\n",
    "\n",
    "# Save data files\n",
    "df.to_csv(Path('data/apoa1') / 'val.csv', index=False)\n",
    "\n",
    "# Copy data\n",
    "!cp -r data/apoa1 /data/code/hyena-dna/data/mpra_agarwal_seq/"
   ]
  },
  {
   "cell_type": "markdown",
   "metadata": {},
   "source": [
    "## Global SSM datasets"
   ]
  },
  {
   "cell_type": "code",
   "execution_count": 20,
   "metadata": {},
   "outputs": [
    {
     "ename": "SyntaxError",
     "evalue": "invalid syntax (3829464078.py, line 27)",
     "output_type": "error",
     "traceback": [
      "\u001b[0;36m  Cell \u001b[0;32mIn[20], line 27\u001b[0;36m\u001b[0m\n\u001b[0;31m    dataset =\u001b[0m\n\u001b[0m              ^\u001b[0m\n\u001b[0;31mSyntaxError\u001b[0m\u001b[0;31m:\u001b[0m invalid syntax\n"
     ]
    }
   ],
   "source": [
    "def generate_substitutions(original_str, nucleotides, max_length, overlap):\n",
    "    substitutions = []\n",
    "    names = []\n",
    "    variant = []\n",
    "\n",
    "    start = 0\n",
    "    while start <= len(original_str)-max_length:\n",
    "        shift_str = str(start) + '-' + str(start+max_length)\n",
    "        substr = original_str[start:start+max_length]\n",
    "        # Original strings shifted\n",
    "        names.append('original' + ':' '' + ':' + shift_str)\n",
    "        substitutions.append(substr)\n",
    "\n",
    "        # Variant strings shifted\n",
    "        for i in range(max_length):\n",
    "            for nucleotide in nucleotides:\n",
    "                if substr[i] != nucleotide:\n",
    "                    new_name = str(start+i) + ':' + nucleotide + ':' + shift_str\n",
    "                    new_str = substr[:i] + nucleotide + substr[i+1:]\n",
    "                    names.append(new_name)\n",
    "                    substitutions.append(new_str)\n",
    "\n",
    "        start += overlap\n",
    "    \n",
    "    return names, substitutions\n",
    "\n",
    "dataset = \n",
    "\n",
    "names, variant_seqs = generate_substitutions(seq, ['A','C','T','G'], max_length=200, overlap=100)\n",
    "\n",
    "seq = ['AGGACCGGATCAACT' + s + 'CATTGCGTGAACCGA' for s in variant_seqs]\n",
    "df = pd.DataFrame({'name':names, 'category':'variant', 'seq':seq, 'mean':0})\n",
    "df.loc[0,'category'] = 'original'"
   ]
  },
  {
   "cell_type": "code",
   "execution_count": null,
   "metadata": {},
   "outputs": [],
   "source": []
  }
 ],
 "metadata": {
  "kernelspec": {
   "display_name": "Python 3",
   "language": "python",
   "name": "python3"
  },
  "language_info": {
   "codemirror_mode": {
    "name": "ipython",
    "version": 3
   },
   "file_extension": ".py",
   "mimetype": "text/x-python",
   "name": "python",
   "nbconvert_exporter": "python",
   "pygments_lexer": "ipython3",
   "version": "3.8.18"
  }
 },
 "nbformat": 4,
 "nbformat_minor": 2
}
